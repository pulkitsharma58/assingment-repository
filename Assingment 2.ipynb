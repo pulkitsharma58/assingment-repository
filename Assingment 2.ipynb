{
 "cells": [
  {
   "cell_type": "markdown",
   "id": "ff7fb254",
   "metadata": {},
   "source": [
    "# def pan_num(x) is for PAN Number verification\n",
    "# def gst_num(x) is for GST Number verification\n",
    "# def dl_num(x) is for Driver's Licence Number verification\n",
    "# def ad_num(x) is for Adhaar Number verification"
   ]
  },
  {
   "cell_type": "code",
   "execution_count": 1,
   "id": "cfab18a7",
   "metadata": {},
   "outputs": [],
   "source": [
    "def pan_num(x):\n",
    "        if len(x) != 10:\n",
    "            return False\n",
    "        else:\n",
    "            if x[0:5].isalpha()==False: \n",
    "                return False\n",
    "            else:\n",
    "                if x[5:9].isnumeric() == False:\n",
    "                    return False\n",
    "                else:\n",
    "                    if x[9].isalpha()==False:\n",
    "                        return False\n",
    "                    else:\n",
    "                        return \"{} is valid Pan Number\".format(x)\n",
    "    "
   ]
  },
  {
   "cell_type": "code",
   "execution_count": 2,
   "id": "5bd7a862",
   "metadata": {},
   "outputs": [],
   "source": [
    "def gst_num(x):\n",
    "    if len(x) !=15:\n",
    "        return False\n",
    "    else:\n",
    "        if x[0:2].isnumeric()==False:\n",
    "            return False\n",
    "        else:\n",
    "            if x[2:7].isalpha()==False:\n",
    "                return False\n",
    "            else:\n",
    "                if x[7:11].isnumeric()==False:\n",
    "                    return False\n",
    "                else:\n",
    "                    if x[11].isalpha()==False:\n",
    "                        return False\n",
    "                    else:\n",
    "                        if x[12].isnumeric()==False:\n",
    "                            return False\n",
    "                        else:\n",
    "                            if x[13].isalpha()==False:\n",
    "                                return False\n",
    "                            else:\n",
    "                                if x[14].isnumeric()==False:\n",
    "                                    return False\n",
    "                                else:\n",
    "                                    return\"{} is a valid GST Number\".format(x)\n",
    "                    "
   ]
  },
  {
   "cell_type": "code",
   "execution_count": 3,
   "id": "b39f64fa",
   "metadata": {},
   "outputs": [],
   "source": [
    "def dl_num(x):\n",
    "    if len(x) != 15:\n",
    "        return False\n",
    "    else:\n",
    "        if x[0:2].isalpha()==False:\n",
    "            return False\n",
    "        else:\n",
    "            if x[2:14].isnumeric()==False:\n",
    "                return False\n",
    "            else:\n",
    "                return \"{} is valid Driving License Number\".format(x)"
   ]
  },
  {
   "cell_type": "code",
   "execution_count": 4,
   "id": "cad73804",
   "metadata": {},
   "outputs": [],
   "source": [
    "def ad_num(x):\n",
    "    if len(x) !=12:\n",
    "        return False\n",
    "    else:\n",
    "        if x.isnumeric()==False:\n",
    "            return False\n",
    "        else:\n",
    "            return\"{} is a valid Addhar Number\".format(x)"
   ]
  },
  {
   "cell_type": "code",
   "execution_count": 5,
   "id": "3f5bf1fe",
   "metadata": {},
   "outputs": [
    {
     "data": {
      "text/plain": [
       "'ABCDE1234F is valid Pan Number'"
      ]
     },
     "execution_count": 5,
     "metadata": {},
     "output_type": "execute_result"
    }
   ],
   "source": [
    "pan_num(\"ABCDE1234F\")"
   ]
  },
  {
   "cell_type": "code",
   "execution_count": 6,
   "id": "cad89c3b",
   "metadata": {},
   "outputs": [
    {
     "data": {
      "text/plain": [
       "False"
      ]
     },
     "execution_count": 6,
     "metadata": {},
     "output_type": "execute_result"
    }
   ],
   "source": [
    "pan_num(\"12ABCDE3456F7G8\")"
   ]
  },
  {
   "cell_type": "code",
   "execution_count": 7,
   "id": "32978d7f",
   "metadata": {},
   "outputs": [
    {
     "data": {
      "text/plain": [
       "False"
      ]
     },
     "execution_count": 7,
     "metadata": {},
     "output_type": "execute_result"
    }
   ],
   "source": [
    "pan_num(\"AB1234561234567\")"
   ]
  },
  {
   "cell_type": "code",
   "execution_count": 8,
   "id": "d9bdde7f",
   "metadata": {},
   "outputs": [
    {
     "data": {
      "text/plain": [
       "False"
      ]
     },
     "execution_count": 8,
     "metadata": {},
     "output_type": "execute_result"
    }
   ],
   "source": [
    "pan_num(\"123412341234\")"
   ]
  },
  {
   "cell_type": "code",
   "execution_count": 9,
   "id": "92e30085",
   "metadata": {},
   "outputs": [
    {
     "data": {
      "text/plain": [
       "False"
      ]
     },
     "execution_count": 9,
     "metadata": {},
     "output_type": "execute_result"
    }
   ],
   "source": [
    "gst_num(\"ABCDE1234F\")"
   ]
  },
  {
   "cell_type": "code",
   "execution_count": 10,
   "id": "66d134ea",
   "metadata": {},
   "outputs": [
    {
     "data": {
      "text/plain": [
       "False"
      ]
     },
     "execution_count": 10,
     "metadata": {},
     "output_type": "execute_result"
    }
   ],
   "source": [
    "gst_num(\"AB1234561234567\")"
   ]
  },
  {
   "cell_type": "code",
   "execution_count": 11,
   "id": "3cbaed32",
   "metadata": {},
   "outputs": [
    {
     "data": {
      "text/plain": [
       "'12ABCDE3456F7G8 is a valid GST Number'"
      ]
     },
     "execution_count": 11,
     "metadata": {},
     "output_type": "execute_result"
    }
   ],
   "source": [
    "gst_num(\"12ABCDE3456F7G8\")"
   ]
  },
  {
   "cell_type": "code",
   "execution_count": 12,
   "id": "25674ffe",
   "metadata": {},
   "outputs": [
    {
     "data": {
      "text/plain": [
       "False"
      ]
     },
     "execution_count": 12,
     "metadata": {},
     "output_type": "execute_result"
    }
   ],
   "source": [
    "gst_num(\"123412341234\")"
   ]
  },
  {
   "cell_type": "code",
   "execution_count": 13,
   "id": "cbdd30f3",
   "metadata": {},
   "outputs": [
    {
     "data": {
      "text/plain": [
       "False"
      ]
     },
     "execution_count": 13,
     "metadata": {},
     "output_type": "execute_result"
    }
   ],
   "source": [
    "dl_num(\"ABCDE1234F\")"
   ]
  },
  {
   "cell_type": "code",
   "execution_count": 14,
   "id": "c3e6cfcb",
   "metadata": {},
   "outputs": [
    {
     "data": {
      "text/plain": [
       "'AB1234561234567 is valid Driving License Number'"
      ]
     },
     "execution_count": 14,
     "metadata": {},
     "output_type": "execute_result"
    }
   ],
   "source": [
    "dl_num(\"AB1234561234567\")"
   ]
  },
  {
   "cell_type": "code",
   "execution_count": 15,
   "id": "90ad2080",
   "metadata": {},
   "outputs": [
    {
     "data": {
      "text/plain": [
       "False"
      ]
     },
     "execution_count": 15,
     "metadata": {},
     "output_type": "execute_result"
    }
   ],
   "source": [
    "dl_num(\"12ABCDE3456F7G8\")"
   ]
  },
  {
   "cell_type": "code",
   "execution_count": 16,
   "id": "32de693a",
   "metadata": {},
   "outputs": [
    {
     "data": {
      "text/plain": [
       "False"
      ]
     },
     "execution_count": 16,
     "metadata": {},
     "output_type": "execute_result"
    }
   ],
   "source": [
    "dl_num(\"123412341234\")"
   ]
  },
  {
   "cell_type": "code",
   "execution_count": 17,
   "id": "32144b2e",
   "metadata": {},
   "outputs": [
    {
     "data": {
      "text/plain": [
       "False"
      ]
     },
     "execution_count": 17,
     "metadata": {},
     "output_type": "execute_result"
    }
   ],
   "source": [
    "ad_num(\"ABCDE1234F\")"
   ]
  },
  {
   "cell_type": "code",
   "execution_count": 18,
   "id": "4c3c2c62",
   "metadata": {},
   "outputs": [
    {
     "data": {
      "text/plain": [
       "False"
      ]
     },
     "execution_count": 18,
     "metadata": {},
     "output_type": "execute_result"
    }
   ],
   "source": [
    "ad_num(\"AB1234561234567\")"
   ]
  },
  {
   "cell_type": "code",
   "execution_count": 19,
   "id": "6550dc12",
   "metadata": {},
   "outputs": [
    {
     "data": {
      "text/plain": [
       "False"
      ]
     },
     "execution_count": 19,
     "metadata": {},
     "output_type": "execute_result"
    }
   ],
   "source": [
    "ad_num(\"12ABCDE3456F7G8\")"
   ]
  },
  {
   "cell_type": "code",
   "execution_count": 20,
   "id": "6b953600",
   "metadata": {},
   "outputs": [
    {
     "data": {
      "text/plain": [
       "'123412341234 is a valid Addhar Number'"
      ]
     },
     "execution_count": 20,
     "metadata": {},
     "output_type": "execute_result"
    }
   ],
   "source": [
    "ad_num(\"123412341234\")"
   ]
  },
  {
   "cell_type": "markdown",
   "id": "3011304d",
   "metadata": {},
   "source": [
    "# Another Solution"
   ]
  },
  {
   "cell_type": "code",
   "execution_count": 21,
   "id": "2784667c",
   "metadata": {},
   "outputs": [],
   "source": [
    "def is_pan_number(x):\n",
    "    if len(x) != 10:\n",
    "        return False\n",
    "    else:\n",
    "        for character in x[0:5]:\n",
    "            if ord(character)<65 or ord(character)>90:\n",
    "                return False\n",
    "        for character in x[5:9]:\n",
    "            if ord(character)<45 or ord(character)>57:\n",
    "                return False\n",
    "        if ord(x[9])<65 or ord(x[9])>90:\n",
    "                return False\n",
    "        else:\n",
    "            return True"
   ]
  },
  {
   "cell_type": "code",
   "execution_count": 22,
   "id": "fae9b308",
   "metadata": {},
   "outputs": [],
   "source": [
    "def is_gst_number(x):\n",
    "    if len(x) != 15:\n",
    "        return False\n",
    "    else:\n",
    "        for character in x[0:2]:\n",
    "            if ord(character)<45 or ord(character)>57:\n",
    "                return False\n",
    "        if is_pan_number(x[2:12]) == False:\n",
    "            return False\n",
    "        if (ord(x[12]) >= 48 and ord(x[12]) <=57) and (ord(x[13]) >= 65 and ord(x[13]) <= 90) and (ord(x[14]) >= 48 and ord(x[14]) <= 57):\n",
    "            return True\n",
    "        else:\n",
    "            return False"
   ]
  },
  {
   "cell_type": "code",
   "execution_count": 23,
   "id": "01ec4cdf",
   "metadata": {},
   "outputs": [],
   "source": [
    "def is_dl_number(x):\n",
    "    if len(x) != 15:\n",
    "        return False\n",
    "    else:\n",
    "        if ord(x[0]) < 65 or ord(x[0]) > 90 or ord(x[1]) < 65 or ord(x[1]) > 90:\n",
    "            return False\n",
    "        for character in x[2:15]:\n",
    "            if ord(character) < 48 or ord(character) > 57:\n",
    "                return False\n",
    "            return True"
   ]
  },
  {
   "cell_type": "code",
   "execution_count": 24,
   "id": "11116be6",
   "metadata": {},
   "outputs": [],
   "source": [
    "def is_adhaar_number(x):\n",
    "    if len(x) != 12:\n",
    "        return False\n",
    "    else:\n",
    "        for character in x:\n",
    "            if ord(character) < 48 or ord(character) > 57:\n",
    "                return False\n",
    "            return True"
   ]
  },
  {
   "cell_type": "code",
   "execution_count": 25,
   "id": "1672a667",
   "metadata": {},
   "outputs": [
    {
     "data": {
      "text/plain": [
       "True"
      ]
     },
     "execution_count": 25,
     "metadata": {},
     "output_type": "execute_result"
    }
   ],
   "source": [
    "is_adhaar_number(\"987612333445\")"
   ]
  },
  {
   "cell_type": "code",
   "execution_count": 26,
   "id": "6d522f55",
   "metadata": {},
   "outputs": [
    {
     "data": {
      "text/plain": [
       "True"
      ]
     },
     "execution_count": 26,
     "metadata": {},
     "output_type": "execute_result"
    }
   ],
   "source": [
    "is_pan_number(\"ABCDE1234F\")"
   ]
  },
  {
   "cell_type": "code",
   "execution_count": 27,
   "id": "09fd2573",
   "metadata": {},
   "outputs": [
    {
     "data": {
      "text/plain": [
       "True"
      ]
     },
     "execution_count": 27,
     "metadata": {},
     "output_type": "execute_result"
    }
   ],
   "source": [
    "is_gst_number(\"12ABCDE3456F7G8\")"
   ]
  },
  {
   "cell_type": "code",
   "execution_count": null,
   "id": "6880881d",
   "metadata": {},
   "outputs": [],
   "source": []
  }
 ],
 "metadata": {
  "kernelspec": {
   "display_name": "Python 3 (ipykernel)",
   "language": "python",
   "name": "python3"
  },
  "language_info": {
   "codemirror_mode": {
    "name": "ipython",
    "version": 3
   },
   "file_extension": ".py",
   "mimetype": "text/x-python",
   "name": "python",
   "nbconvert_exporter": "python",
   "pygments_lexer": "ipython3",
   "version": "3.9.7"
  }
 },
 "nbformat": 4,
 "nbformat_minor": 5
}
