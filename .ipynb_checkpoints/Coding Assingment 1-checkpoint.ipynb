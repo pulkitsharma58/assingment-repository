{
 "cells": [
  {
   "cell_type": "code",
   "execution_count": 1,
   "id": "ff817adc",
   "metadata": {},
   "outputs": [],
   "source": [
    "l=[25,36,31,17,61,19,58,39,67,81]"
   ]
  },
  {
   "cell_type": "code",
   "execution_count": 4,
   "id": "92ad1f91",
   "metadata": {},
   "outputs": [
    {
     "name": "stdout",
     "output_type": "stream",
     "text": [
      "25 is not prime\n",
      "36 is not prime\n",
      " 36 is a even\n",
      "31 is a prime\n",
      "17 is a prime\n",
      "61 is a prime\n",
      "19 is a prime\n",
      "58 is not prime\n",
      " 58 is a even\n",
      "39 is not prime\n",
      "67 is a prime\n",
      "81 is not prime\n"
     ]
    }
   ],
   "source": [
    "for i in range (0,10):\n",
    "    for divisor in range (2,l[i]):\n",
    "        if l[i] % divisor == 0:\n",
    "            print (\"{} is not prime\".format(l[i]))\n",
    "            \n",
    "        \n",
    "            break\n",
    "    if divisor == (l[i]-1):\n",
    "        print(\"{} is a prime\".format(l[i]))\n",
    "    if l[i] % 2 == 0:\n",
    "            print (\" {} is a even\".format(l[i]))    \n"
   ]
  },
  {
   "cell_type": "code",
   "execution_count": 5,
   "id": "a307ed3c",
   "metadata": {},
   "outputs": [],
   "source": [
    "p=dict()"
   ]
  },
  {
   "cell_type": "code",
   "execution_count": 6,
   "id": "b7ab71ad",
   "metadata": {},
   "outputs": [],
   "source": [
    "p[\"even\"]=list()"
   ]
  },
  {
   "cell_type": "code",
   "execution_count": 7,
   "id": "8ab2b16f",
   "metadata": {},
   "outputs": [],
   "source": [
    "p[\"even\"].append(36)"
   ]
  },
  {
   "cell_type": "code",
   "execution_count": 8,
   "id": "ff9e5c53",
   "metadata": {},
   "outputs": [],
   "source": [
    "p[\"even\"].append(58)"
   ]
  },
  {
   "cell_type": "code",
   "execution_count": 9,
   "id": "0f733a53",
   "metadata": {},
   "outputs": [],
   "source": [
    "p[\"prime\"]=list()"
   ]
  },
  {
   "cell_type": "code",
   "execution_count": 10,
   "id": "6d1f2b71",
   "metadata": {},
   "outputs": [],
   "source": [
    "p[\"prime\"].append(31)"
   ]
  },
  {
   "cell_type": "code",
   "execution_count": 11,
   "id": "03f0ba1d",
   "metadata": {},
   "outputs": [],
   "source": [
    "p[\"prime\"].append(17)"
   ]
  },
  {
   "cell_type": "code",
   "execution_count": 12,
   "id": "026cb356",
   "metadata": {},
   "outputs": [],
   "source": [
    "p[\"prime\"].append(61)"
   ]
  },
  {
   "cell_type": "code",
   "execution_count": 13,
   "id": "ac49ecec",
   "metadata": {},
   "outputs": [],
   "source": [
    "p[\"prime\"].append(61)"
   ]
  },
  {
   "cell_type": "code",
   "execution_count": 14,
   "id": "b92d5f70",
   "metadata": {},
   "outputs": [],
   "source": [
    "p[\"prime\"].append(67)"
   ]
  },
  {
   "cell_type": "code",
   "execution_count": 15,
   "id": "e247f43a",
   "metadata": {},
   "outputs": [
    {
     "data": {
      "text/plain": [
       "{'even': [36, 58], 'prime': [31, 17, 61, 61, 67]}"
      ]
     },
     "execution_count": 15,
     "metadata": {},
     "output_type": "execute_result"
    }
   ],
   "source": [
    "p"
   ]
  },
  {
   "cell_type": "code",
   "execution_count": null,
   "id": "73c7f597",
   "metadata": {},
   "outputs": [],
   "source": []
  }
 ],
 "metadata": {
  "kernelspec": {
   "display_name": "Python 3 (ipykernel)",
   "language": "python",
   "name": "python3"
  },
  "language_info": {
   "codemirror_mode": {
    "name": "ipython",
    "version": 3
   },
   "file_extension": ".py",
   "mimetype": "text/x-python",
   "name": "python",
   "nbconvert_exporter": "python",
   "pygments_lexer": "ipython3",
   "version": "3.9.7"
  }
 },
 "nbformat": 4,
 "nbformat_minor": 5
}
