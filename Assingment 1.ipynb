{
 "cells": [
  {
   "cell_type": "code",
   "execution_count": 1,
   "id": "ff817adc",
   "metadata": {},
   "outputs": [],
   "source": [
    "l=[25,36,31,17,61,19,58,39,67,81]"
   ]
  },
  {
   "cell_type": "code",
   "execution_count": 2,
   "id": "92ad1f91",
   "metadata": {},
   "outputs": [
    {
     "name": "stdout",
     "output_type": "stream",
     "text": [
      "25 is not prime\n",
      "36 is not prime\n",
      " 36 is a even\n",
      "31 is a prime\n",
      "17 is a prime\n",
      "61 is a prime\n",
      "19 is a prime\n",
      "58 is not prime\n",
      " 58 is a even\n",
      "39 is not prime\n",
      "67 is a prime\n",
      "81 is not prime\n"
     ]
    }
   ],
   "source": [
    "for i in range (0,10):\n",
    "    for divisor in range (2,l[i]):\n",
    "        if l[i] % divisor == 0:\n",
    "            print (\"{} is not prime\".format(l[i]))\n",
    "            \n",
    "        \n",
    "            break\n",
    "    if divisor == (l[i]-1):\n",
    "        print(\"{} is a prime\".format(l[i]))\n",
    "    if l[i] % 2 == 0:\n",
    "            print (\" {} is a even\".format(l[i]))    \n"
   ]
  },
  {
   "cell_type": "code",
   "execution_count": 3,
   "id": "a307ed3c",
   "metadata": {},
   "outputs": [],
   "source": [
    "p=dict()"
   ]
  },
  {
   "cell_type": "code",
   "execution_count": 4,
   "id": "b7ab71ad",
   "metadata": {},
   "outputs": [],
   "source": [
    "p[\"even\"]=list()"
   ]
  },
  {
   "cell_type": "code",
   "execution_count": 5,
   "id": "8ab2b16f",
   "metadata": {},
   "outputs": [],
   "source": [
    "p[\"even\"].append(36)"
   ]
  },
  {
   "cell_type": "code",
   "execution_count": 6,
   "id": "ff9e5c53",
   "metadata": {},
   "outputs": [],
   "source": [
    "p[\"even\"].append(58)"
   ]
  },
  {
   "cell_type": "code",
   "execution_count": 7,
   "id": "0f733a53",
   "metadata": {},
   "outputs": [],
   "source": [
    "p[\"prime\"]=list()"
   ]
  },
  {
   "cell_type": "code",
   "execution_count": 8,
   "id": "6d1f2b71",
   "metadata": {},
   "outputs": [],
   "source": [
    "p[\"prime\"].append(31)"
   ]
  },
  {
   "cell_type": "code",
   "execution_count": 9,
   "id": "03f0ba1d",
   "metadata": {},
   "outputs": [],
   "source": [
    "p[\"prime\"].append(17)"
   ]
  },
  {
   "cell_type": "code",
   "execution_count": 10,
   "id": "ac49ecec",
   "metadata": {},
   "outputs": [],
   "source": [
    "p[\"prime\"].append(61)"
   ]
  },
  {
   "cell_type": "code",
   "execution_count": 11,
   "id": "b92d5f70",
   "metadata": {},
   "outputs": [],
   "source": [
    "p[\"prime\"].append(67)"
   ]
  },
  {
   "cell_type": "code",
   "execution_count": 12,
   "id": "e247f43a",
   "metadata": {},
   "outputs": [
    {
     "data": {
      "text/plain": [
       "{'even': [36, 58], 'prime': [31, 17, 61, 67]}"
      ]
     },
     "execution_count": 12,
     "metadata": {},
     "output_type": "execute_result"
    }
   ],
   "source": [
    "p"
   ]
  },
  {
   "cell_type": "markdown",
   "id": "2db17981",
   "metadata": {},
   "source": [
    "# Proper solution"
   ]
  },
  {
   "cell_type": "code",
   "execution_count": 13,
   "id": "2b6410fe",
   "metadata": {},
   "outputs": [
    {
     "name": "stdout",
     "output_type": "stream",
     "text": [
      "{'prime': [31, 17, 61, 19, 67], 'even': [36, 58]}\n"
     ]
    }
   ],
   "source": [
    "prime=[]\n",
    "even=[]\n",
    "for i in l:\n",
    "    if i % 2 == 0:\n",
    "        if i == 2 or i==1:\n",
    "            prime.append(i)\n",
    "        even.append(i)\n",
    "    for divisor in range(2,i):\n",
    "        if i % divisor == 0:\n",
    "            break\n",
    "        if divisor ==(i-1):\n",
    "            prime.append(i)\n",
    "ans=dict(zip([\"prime\",\"even\"],[prime,even]))  \n",
    "print(ans)\n",
    "    "
   ]
  },
  {
   "cell_type": "code",
   "execution_count": null,
   "id": "6baaf51d",
   "metadata": {},
   "outputs": [],
   "source": []
  }
 ],
 "metadata": {
  "kernelspec": {
   "display_name": "Python 3 (ipykernel)",
   "language": "python",
   "name": "python3"
  },
  "language_info": {
   "codemirror_mode": {
    "name": "ipython",
    "version": 3
   },
   "file_extension": ".py",
   "mimetype": "text/x-python",
   "name": "python",
   "nbconvert_exporter": "python",
   "pygments_lexer": "ipython3",
   "version": "3.9.7"
  }
 },
 "nbformat": 4,
 "nbformat_minor": 5
}
