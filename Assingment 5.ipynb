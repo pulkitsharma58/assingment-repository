{
 "cells": [
  {
   "cell_type": "code",
   "execution_count": 1,
   "metadata": {
    "executionInfo": {
     "elapsed": 8,
     "status": "ok",
     "timestamp": 1640683564494,
     "user": {
      "displayName": "Divyansh Pant",
      "photoUrl": "https://lh3.googleusercontent.com/a/default-user=s64",
      "userId": "07515016522541054960"
     },
     "user_tz": -330
    },
    "id": "Mhs6RSSOQfO0"
   },
   "outputs": [],
   "source": [
    "import pandas as pd"
   ]
  },
  {
   "cell_type": "code",
   "execution_count": 2,
   "metadata": {
    "colab": {
     "base_uri": "https://localhost:8080/",
     "height": 380
    },
    "executionInfo": {
     "elapsed": 1887,
     "status": "error",
     "timestamp": 1640683567185,
     "user": {
      "displayName": "Divyansh Pant",
      "photoUrl": "https://lh3.googleusercontent.com/a/default-user=s64",
      "userId": "07515016522541054960"
     },
     "user_tz": -330
    },
    "id": "qisukttDQfO2",
    "outputId": "7db48ab3-d54d-43cd-f0a1-0d4832e0163b"
   },
   "outputs": [],
   "source": [
    "data = pd.read_csv(\"data.csv\")"
   ]
  },
  {
   "cell_type": "code",
   "execution_count": 3,
   "metadata": {},
   "outputs": [
    {
     "data": {
      "text/html": [
       "<div>\n",
       "<style scoped>\n",
       "    .dataframe tbody tr th:only-of-type {\n",
       "        vertical-align: middle;\n",
       "    }\n",
       "\n",
       "    .dataframe tbody tr th {\n",
       "        vertical-align: top;\n",
       "    }\n",
       "\n",
       "    .dataframe thead th {\n",
       "        text-align: right;\n",
       "    }\n",
       "</style>\n",
       "<table border=\"1\" class=\"dataframe\">\n",
       "  <thead>\n",
       "    <tr style=\"text-align: right;\">\n",
       "      <th></th>\n",
       "      <th>id</th>\n",
       "      <th>diagnosis</th>\n",
       "      <th>radius_mean</th>\n",
       "      <th>texture_mean</th>\n",
       "      <th>perimeter_mean</th>\n",
       "      <th>area_mean</th>\n",
       "      <th>smoothness_mean</th>\n",
       "      <th>compactness_mean</th>\n",
       "      <th>concavity_mean</th>\n",
       "      <th>concave points_mean</th>\n",
       "      <th>...</th>\n",
       "      <th>texture_worst</th>\n",
       "      <th>perimeter_worst</th>\n",
       "      <th>area_worst</th>\n",
       "      <th>smoothness_worst</th>\n",
       "      <th>compactness_worst</th>\n",
       "      <th>concavity_worst</th>\n",
       "      <th>concave points_worst</th>\n",
       "      <th>symmetry_worst</th>\n",
       "      <th>fractal_dimension_worst</th>\n",
       "      <th>Unnamed: 32</th>\n",
       "    </tr>\n",
       "  </thead>\n",
       "  <tbody>\n",
       "    <tr>\n",
       "      <th>0</th>\n",
       "      <td>842302</td>\n",
       "      <td>M</td>\n",
       "      <td>17.99</td>\n",
       "      <td>10.38</td>\n",
       "      <td>122.80</td>\n",
       "      <td>1001.0</td>\n",
       "      <td>0.11840</td>\n",
       "      <td>0.27760</td>\n",
       "      <td>0.3001</td>\n",
       "      <td>0.14710</td>\n",
       "      <td>...</td>\n",
       "      <td>17.33</td>\n",
       "      <td>184.60</td>\n",
       "      <td>2019.0</td>\n",
       "      <td>0.1622</td>\n",
       "      <td>0.6656</td>\n",
       "      <td>0.7119</td>\n",
       "      <td>0.2654</td>\n",
       "      <td>0.4601</td>\n",
       "      <td>0.11890</td>\n",
       "      <td>NaN</td>\n",
       "    </tr>\n",
       "    <tr>\n",
       "      <th>1</th>\n",
       "      <td>842517</td>\n",
       "      <td>M</td>\n",
       "      <td>20.57</td>\n",
       "      <td>17.77</td>\n",
       "      <td>132.90</td>\n",
       "      <td>1326.0</td>\n",
       "      <td>0.08474</td>\n",
       "      <td>0.07864</td>\n",
       "      <td>0.0869</td>\n",
       "      <td>0.07017</td>\n",
       "      <td>...</td>\n",
       "      <td>23.41</td>\n",
       "      <td>158.80</td>\n",
       "      <td>1956.0</td>\n",
       "      <td>0.1238</td>\n",
       "      <td>0.1866</td>\n",
       "      <td>0.2416</td>\n",
       "      <td>0.1860</td>\n",
       "      <td>0.2750</td>\n",
       "      <td>0.08902</td>\n",
       "      <td>NaN</td>\n",
       "    </tr>\n",
       "    <tr>\n",
       "      <th>2</th>\n",
       "      <td>84300903</td>\n",
       "      <td>M</td>\n",
       "      <td>19.69</td>\n",
       "      <td>21.25</td>\n",
       "      <td>130.00</td>\n",
       "      <td>1203.0</td>\n",
       "      <td>0.10960</td>\n",
       "      <td>0.15990</td>\n",
       "      <td>0.1974</td>\n",
       "      <td>0.12790</td>\n",
       "      <td>...</td>\n",
       "      <td>25.53</td>\n",
       "      <td>152.50</td>\n",
       "      <td>1709.0</td>\n",
       "      <td>0.1444</td>\n",
       "      <td>0.4245</td>\n",
       "      <td>0.4504</td>\n",
       "      <td>0.2430</td>\n",
       "      <td>0.3613</td>\n",
       "      <td>0.08758</td>\n",
       "      <td>NaN</td>\n",
       "    </tr>\n",
       "    <tr>\n",
       "      <th>3</th>\n",
       "      <td>84348301</td>\n",
       "      <td>M</td>\n",
       "      <td>11.42</td>\n",
       "      <td>20.38</td>\n",
       "      <td>77.58</td>\n",
       "      <td>386.1</td>\n",
       "      <td>0.14250</td>\n",
       "      <td>0.28390</td>\n",
       "      <td>0.2414</td>\n",
       "      <td>0.10520</td>\n",
       "      <td>...</td>\n",
       "      <td>26.50</td>\n",
       "      <td>98.87</td>\n",
       "      <td>567.7</td>\n",
       "      <td>0.2098</td>\n",
       "      <td>0.8663</td>\n",
       "      <td>0.6869</td>\n",
       "      <td>0.2575</td>\n",
       "      <td>0.6638</td>\n",
       "      <td>0.17300</td>\n",
       "      <td>NaN</td>\n",
       "    </tr>\n",
       "    <tr>\n",
       "      <th>4</th>\n",
       "      <td>84358402</td>\n",
       "      <td>M</td>\n",
       "      <td>20.29</td>\n",
       "      <td>14.34</td>\n",
       "      <td>135.10</td>\n",
       "      <td>1297.0</td>\n",
       "      <td>0.10030</td>\n",
       "      <td>0.13280</td>\n",
       "      <td>0.1980</td>\n",
       "      <td>0.10430</td>\n",
       "      <td>...</td>\n",
       "      <td>16.67</td>\n",
       "      <td>152.20</td>\n",
       "      <td>1575.0</td>\n",
       "      <td>0.1374</td>\n",
       "      <td>0.2050</td>\n",
       "      <td>0.4000</td>\n",
       "      <td>0.1625</td>\n",
       "      <td>0.2364</td>\n",
       "      <td>0.07678</td>\n",
       "      <td>NaN</td>\n",
       "    </tr>\n",
       "  </tbody>\n",
       "</table>\n",
       "<p>5 rows × 33 columns</p>\n",
       "</div>"
      ],
      "text/plain": [
       "         id diagnosis  radius_mean  texture_mean  perimeter_mean  area_mean  \\\n",
       "0    842302         M        17.99         10.38          122.80     1001.0   \n",
       "1    842517         M        20.57         17.77          132.90     1326.0   \n",
       "2  84300903         M        19.69         21.25          130.00     1203.0   \n",
       "3  84348301         M        11.42         20.38           77.58      386.1   \n",
       "4  84358402         M        20.29         14.34          135.10     1297.0   \n",
       "\n",
       "   smoothness_mean  compactness_mean  concavity_mean  concave points_mean  \\\n",
       "0          0.11840           0.27760          0.3001              0.14710   \n",
       "1          0.08474           0.07864          0.0869              0.07017   \n",
       "2          0.10960           0.15990          0.1974              0.12790   \n",
       "3          0.14250           0.28390          0.2414              0.10520   \n",
       "4          0.10030           0.13280          0.1980              0.10430   \n",
       "\n",
       "   ...  texture_worst  perimeter_worst  area_worst  smoothness_worst  \\\n",
       "0  ...          17.33           184.60      2019.0            0.1622   \n",
       "1  ...          23.41           158.80      1956.0            0.1238   \n",
       "2  ...          25.53           152.50      1709.0            0.1444   \n",
       "3  ...          26.50            98.87       567.7            0.2098   \n",
       "4  ...          16.67           152.20      1575.0            0.1374   \n",
       "\n",
       "   compactness_worst  concavity_worst  concave points_worst  symmetry_worst  \\\n",
       "0             0.6656           0.7119                0.2654          0.4601   \n",
       "1             0.1866           0.2416                0.1860          0.2750   \n",
       "2             0.4245           0.4504                0.2430          0.3613   \n",
       "3             0.8663           0.6869                0.2575          0.6638   \n",
       "4             0.2050           0.4000                0.1625          0.2364   \n",
       "\n",
       "   fractal_dimension_worst  Unnamed: 32  \n",
       "0                  0.11890          NaN  \n",
       "1                  0.08902          NaN  \n",
       "2                  0.08758          NaN  \n",
       "3                  0.17300          NaN  \n",
       "4                  0.07678          NaN  \n",
       "\n",
       "[5 rows x 33 columns]"
      ]
     },
     "execution_count": 3,
     "metadata": {},
     "output_type": "execute_result"
    }
   ],
   "source": [
    "data.head()"
   ]
  },
  {
   "cell_type": "markdown",
   "metadata": {
    "id": "kSARet9cQfO7"
   },
   "source": [
    "Remove the first column 'id' and the last column 'Unnamed:32' from this dataset:"
   ]
  },
  {
   "cell_type": "code",
   "execution_count": 4,
   "metadata": {
    "colab": {
     "base_uri": "https://localhost:8080/",
     "height": 165
    },
    "executionInfo": {
     "elapsed": 19,
     "status": "error",
     "timestamp": 1640683552882,
     "user": {
      "displayName": "Divyansh Pant",
      "photoUrl": "https://lh3.googleusercontent.com/a/default-user=s64",
      "userId": "07515016522541054960"
     },
     "user_tz": -330
    },
    "id": "pEa-oXq7QfO8",
    "outputId": "7f69af4f-17a8-4982-fa9b-1684f72d5292"
   },
   "outputs": [],
   "source": [
    "data.drop(labels=[data.columns[0],data.columns[32]],axis=1,inplace=True)"
   ]
  },
  {
   "cell_type": "code",
   "execution_count": 5,
   "metadata": {
    "id": "H9xRtc1MQfO8",
    "outputId": "af733a13-3a9f-46d7-d08e-b79e608b0aa1"
   },
   "outputs": [
    {
     "data": {
      "text/html": [
       "<div>\n",
       "<style scoped>\n",
       "    .dataframe tbody tr th:only-of-type {\n",
       "        vertical-align: middle;\n",
       "    }\n",
       "\n",
       "    .dataframe tbody tr th {\n",
       "        vertical-align: top;\n",
       "    }\n",
       "\n",
       "    .dataframe thead th {\n",
       "        text-align: right;\n",
       "    }\n",
       "</style>\n",
       "<table border=\"1\" class=\"dataframe\">\n",
       "  <thead>\n",
       "    <tr style=\"text-align: right;\">\n",
       "      <th></th>\n",
       "      <th>diagnosis</th>\n",
       "      <th>radius_mean</th>\n",
       "      <th>texture_mean</th>\n",
       "      <th>perimeter_mean</th>\n",
       "      <th>area_mean</th>\n",
       "      <th>smoothness_mean</th>\n",
       "      <th>compactness_mean</th>\n",
       "      <th>concavity_mean</th>\n",
       "      <th>concave points_mean</th>\n",
       "      <th>symmetry_mean</th>\n",
       "      <th>...</th>\n",
       "      <th>radius_worst</th>\n",
       "      <th>texture_worst</th>\n",
       "      <th>perimeter_worst</th>\n",
       "      <th>area_worst</th>\n",
       "      <th>smoothness_worst</th>\n",
       "      <th>compactness_worst</th>\n",
       "      <th>concavity_worst</th>\n",
       "      <th>concave points_worst</th>\n",
       "      <th>symmetry_worst</th>\n",
       "      <th>fractal_dimension_worst</th>\n",
       "    </tr>\n",
       "  </thead>\n",
       "  <tbody>\n",
       "    <tr>\n",
       "      <th>0</th>\n",
       "      <td>M</td>\n",
       "      <td>17.99</td>\n",
       "      <td>10.38</td>\n",
       "      <td>122.80</td>\n",
       "      <td>1001.0</td>\n",
       "      <td>0.11840</td>\n",
       "      <td>0.27760</td>\n",
       "      <td>0.3001</td>\n",
       "      <td>0.14710</td>\n",
       "      <td>0.2419</td>\n",
       "      <td>...</td>\n",
       "      <td>25.38</td>\n",
       "      <td>17.33</td>\n",
       "      <td>184.60</td>\n",
       "      <td>2019.0</td>\n",
       "      <td>0.1622</td>\n",
       "      <td>0.6656</td>\n",
       "      <td>0.7119</td>\n",
       "      <td>0.2654</td>\n",
       "      <td>0.4601</td>\n",
       "      <td>0.11890</td>\n",
       "    </tr>\n",
       "    <tr>\n",
       "      <th>1</th>\n",
       "      <td>M</td>\n",
       "      <td>20.57</td>\n",
       "      <td>17.77</td>\n",
       "      <td>132.90</td>\n",
       "      <td>1326.0</td>\n",
       "      <td>0.08474</td>\n",
       "      <td>0.07864</td>\n",
       "      <td>0.0869</td>\n",
       "      <td>0.07017</td>\n",
       "      <td>0.1812</td>\n",
       "      <td>...</td>\n",
       "      <td>24.99</td>\n",
       "      <td>23.41</td>\n",
       "      <td>158.80</td>\n",
       "      <td>1956.0</td>\n",
       "      <td>0.1238</td>\n",
       "      <td>0.1866</td>\n",
       "      <td>0.2416</td>\n",
       "      <td>0.1860</td>\n",
       "      <td>0.2750</td>\n",
       "      <td>0.08902</td>\n",
       "    </tr>\n",
       "    <tr>\n",
       "      <th>2</th>\n",
       "      <td>M</td>\n",
       "      <td>19.69</td>\n",
       "      <td>21.25</td>\n",
       "      <td>130.00</td>\n",
       "      <td>1203.0</td>\n",
       "      <td>0.10960</td>\n",
       "      <td>0.15990</td>\n",
       "      <td>0.1974</td>\n",
       "      <td>0.12790</td>\n",
       "      <td>0.2069</td>\n",
       "      <td>...</td>\n",
       "      <td>23.57</td>\n",
       "      <td>25.53</td>\n",
       "      <td>152.50</td>\n",
       "      <td>1709.0</td>\n",
       "      <td>0.1444</td>\n",
       "      <td>0.4245</td>\n",
       "      <td>0.4504</td>\n",
       "      <td>0.2430</td>\n",
       "      <td>0.3613</td>\n",
       "      <td>0.08758</td>\n",
       "    </tr>\n",
       "    <tr>\n",
       "      <th>3</th>\n",
       "      <td>M</td>\n",
       "      <td>11.42</td>\n",
       "      <td>20.38</td>\n",
       "      <td>77.58</td>\n",
       "      <td>386.1</td>\n",
       "      <td>0.14250</td>\n",
       "      <td>0.28390</td>\n",
       "      <td>0.2414</td>\n",
       "      <td>0.10520</td>\n",
       "      <td>0.2597</td>\n",
       "      <td>...</td>\n",
       "      <td>14.91</td>\n",
       "      <td>26.50</td>\n",
       "      <td>98.87</td>\n",
       "      <td>567.7</td>\n",
       "      <td>0.2098</td>\n",
       "      <td>0.8663</td>\n",
       "      <td>0.6869</td>\n",
       "      <td>0.2575</td>\n",
       "      <td>0.6638</td>\n",
       "      <td>0.17300</td>\n",
       "    </tr>\n",
       "    <tr>\n",
       "      <th>4</th>\n",
       "      <td>M</td>\n",
       "      <td>20.29</td>\n",
       "      <td>14.34</td>\n",
       "      <td>135.10</td>\n",
       "      <td>1297.0</td>\n",
       "      <td>0.10030</td>\n",
       "      <td>0.13280</td>\n",
       "      <td>0.1980</td>\n",
       "      <td>0.10430</td>\n",
       "      <td>0.1809</td>\n",
       "      <td>...</td>\n",
       "      <td>22.54</td>\n",
       "      <td>16.67</td>\n",
       "      <td>152.20</td>\n",
       "      <td>1575.0</td>\n",
       "      <td>0.1374</td>\n",
       "      <td>0.2050</td>\n",
       "      <td>0.4000</td>\n",
       "      <td>0.1625</td>\n",
       "      <td>0.2364</td>\n",
       "      <td>0.07678</td>\n",
       "    </tr>\n",
       "  </tbody>\n",
       "</table>\n",
       "<p>5 rows × 31 columns</p>\n",
       "</div>"
      ],
      "text/plain": [
       "  diagnosis  radius_mean  texture_mean  perimeter_mean  area_mean  \\\n",
       "0         M        17.99         10.38          122.80     1001.0   \n",
       "1         M        20.57         17.77          132.90     1326.0   \n",
       "2         M        19.69         21.25          130.00     1203.0   \n",
       "3         M        11.42         20.38           77.58      386.1   \n",
       "4         M        20.29         14.34          135.10     1297.0   \n",
       "\n",
       "   smoothness_mean  compactness_mean  concavity_mean  concave points_mean  \\\n",
       "0          0.11840           0.27760          0.3001              0.14710   \n",
       "1          0.08474           0.07864          0.0869              0.07017   \n",
       "2          0.10960           0.15990          0.1974              0.12790   \n",
       "3          0.14250           0.28390          0.2414              0.10520   \n",
       "4          0.10030           0.13280          0.1980              0.10430   \n",
       "\n",
       "   symmetry_mean  ...  radius_worst  texture_worst  perimeter_worst  \\\n",
       "0         0.2419  ...         25.38          17.33           184.60   \n",
       "1         0.1812  ...         24.99          23.41           158.80   \n",
       "2         0.2069  ...         23.57          25.53           152.50   \n",
       "3         0.2597  ...         14.91          26.50            98.87   \n",
       "4         0.1809  ...         22.54          16.67           152.20   \n",
       "\n",
       "   area_worst  smoothness_worst  compactness_worst  concavity_worst  \\\n",
       "0      2019.0            0.1622             0.6656           0.7119   \n",
       "1      1956.0            0.1238             0.1866           0.2416   \n",
       "2      1709.0            0.1444             0.4245           0.4504   \n",
       "3       567.7            0.2098             0.8663           0.6869   \n",
       "4      1575.0            0.1374             0.2050           0.4000   \n",
       "\n",
       "   concave points_worst  symmetry_worst  fractal_dimension_worst  \n",
       "0                0.2654          0.4601                  0.11890  \n",
       "1                0.1860          0.2750                  0.08902  \n",
       "2                0.2430          0.3613                  0.08758  \n",
       "3                0.2575          0.6638                  0.17300  \n",
       "4                0.1625          0.2364                  0.07678  \n",
       "\n",
       "[5 rows x 31 columns]"
      ]
     },
     "execution_count": 5,
     "metadata": {},
     "output_type": "execute_result"
    }
   ],
   "source": [
    "data.head()"
   ]
  },
  {
   "cell_type": "markdown",
   "metadata": {
    "id": "O9S-J5_kQfO_"
   },
   "source": [
    "The task is to determine the best fitting probability distribution on each column data (Sample Data of the Random Variable) of the dataset, out of the possible choices of probability distributions: Normal(Symmetric), Rayleigh(Skewed) or Binomial. \n",
    "\n",
    "So, let's see that how are we going to do that for a single column data and then we have to repeat this process for rest of the columns: \n",
    "\n",
    "Step 1: First, we will check whether the Random Variable is Discrete or Continous by checking that how many unique values are there in the single column of the Random Variable and does the Random Variable has string or floating point or integer values? Usually, Discrete Random Variables have either Integer or String values whereas continous random variables have floating point values and also because the values are not sparse (0s or 1s) in continous random variables and they are dense (floating point values) so values don't repeat much and hence the number of unique values are almost equal to the total number of values in the column. As an example, lets take one by one two columns: 'diagnosis' and 'radius_mean': "
   ]
  },
  {
   "cell_type": "code",
   "execution_count": 6,
   "metadata": {
    "id": "wRsuiy0DQfO_"
   },
   "outputs": [],
   "source": [
    "diagnosis_unique_values = data['diagnosis'].unique()"
   ]
  },
  {
   "cell_type": "code",
   "execution_count": 7,
   "metadata": {
    "id": "TQIh_052QfPA"
   },
   "outputs": [],
   "source": [
    "radius_mean_unique_values = data['radius_mean'].unique()"
   ]
  },
  {
   "cell_type": "markdown",
   "metadata": {
    "id": "RFa7VNwmQfPB"
   },
   "source": [
    "Let's see that in each of the cases, how many unique values are there:"
   ]
  },
  {
   "cell_type": "code",
   "execution_count": 8,
   "metadata": {
    "id": "3-5AuwGKQfPB",
    "outputId": "9da23c16-5247-41bd-ee0d-e908eb51bb2e"
   },
   "outputs": [
    {
     "data": {
      "text/plain": [
       "2"
      ]
     },
     "execution_count": 8,
     "metadata": {},
     "output_type": "execute_result"
    }
   ],
   "source": [
    "len(diagnosis_unique_values)"
   ]
  },
  {
   "cell_type": "code",
   "execution_count": 9,
   "metadata": {
    "id": "_iA5lr8JQfPC",
    "outputId": "9cac08ef-a172-4644-8472-faaa096c6c39"
   },
   "outputs": [
    {
     "data": {
      "text/plain": [
       "456"
      ]
     },
     "execution_count": 9,
     "metadata": {},
     "output_type": "execute_result"
    }
   ],
   "source": [
    "len(radius_mean_unique_values)"
   ]
  },
  {
   "cell_type": "markdown",
   "metadata": {
    "id": "7S-2qvZBQfPC"
   },
   "source": [
    "As you can see that in our discrete random variable of 'diagnosis', we have very limited values, only two in number and they are string in nature : ['B, 'M']\n",
    "\n",
    "Whereas, in our continous random variable of 'radius_mean', we can see the numbe rof unique values is huge and it's 456 which is not much smaller than 569, the number of rows in a column. Moreover, the nature or datatype of values is floating point. \n",
    "\n",
    "So, lets write this concept in the form of the code: "
   ]
  },
  {
   "cell_type": "code",
   "execution_count": 10,
   "metadata": {
    "id": "gZSTFlJ9QfPC"
   },
   "outputs": [],
   "source": [
    "def column_type(x):\n",
    "    \n",
    "    if data[x].dtype == object and (len(data[x].unique()) < len(data[x])): \n",
    "\n",
    "        return 'discrete'\n",
    "\n",
    "    else:\n",
    "\n",
    "        return 'continous'"
   ]
  },
  {
   "cell_type": "markdown",
   "metadata": {
    "id": "SijwKaZcQfPC"
   },
   "source": [
    "The above function will take the name of the single column of the dataset and access the data of that column from the dataset and check the datatype or nature of the values inside that column and also the total number of unique values in that column and check the conditions for the random variable or that specific column being discrete or continous and returns the the type of random variable as strings 'discrete' or 'continous'. \n",
    "\n",
    "Now, the next task is to calculate the value of the best estimator of the population parameter of the probability distribution from which a specific column data is being sampled. In case of discrete random variables, it's pretty easy to determine that: If there are only two unique values in the column data, then it's binomial distribution and multinomial if there are more than two unique values. \n",
    "\n",
    "But, the real challenge lies in case of continous random variables, where it is difficult to determine that from which continous probability distibution the column data is being sampled. We have two options here: Either Normal (Symmetric) or Rayleigh (Skewed). So, in this case we have to find the best fit of our data on both the distributions and then select the distribution with the BESTEST FIT. \n",
    "\n",
    "Well, now the question arrises that how we are going to do that. We know that the Log Likelihood Function Value calculated on the data determines the quality of fit of data on the presumed distribution and if we maximize that value then we get the best fit of a specific probability distribution on the data. so, we first find the best fit of normal distibution on our continous data and then we find the best fit of Rayleigh Distribution on our continous data by maximizing the Log Likelihood Function Value for both the cases and because we have to select that distribution which gives us the bestest fit so we will end up selecting the distribution whose Log Likelihood Function value is maximum among both maxmized Log Likelihood Function Values. \n",
    "\n",
    "The problem is that in order to find the Log Likelihood Function value evaluated in case of fit of specific distribution on the data, we need the PDF of that distribution, which we know but we dont know the values of best estimators of population parameters:\n",
    "\\begin{equation}\n",
    "\\mu, \\sigma\n",
    "\\end{equation}\n",
    "of Normal Distribution and best estimator of population parameter, \n",
    "\\begin{equation}\n",
    "\\sigma (mode)\n",
    "\\end{equation}\n",
    "\n",
    "of Rayleigh Distribution. \n",
    "\n",
    "Now, how do we get the values of the best estimators of population parameters of respective distributions. Well, we know the answer to this question and that is by Maximum Log Likelihood Estimation. We know that the data in each column of this dataset is IID (Independent and Identically Distributed) therefore, for any random column of this dataset, X where X can be 'radius_mean' or 'testure_mean' or anything else, the Log Likelihood function is evaluated as: \n",
    "\n",
    "\\begin{equation}\n",
    "\\log_e L(\\mu,\\sigma) = \\log_e P(X=x_1\\cap X=x_2\\cap .........X=x_N)\n",
    "\\end{equation}\n",
    "For Normal Distribution"
   ]
  },
  {
   "cell_type": "markdown",
   "metadata": {
    "id": "PYLwpNuUQfPC"
   },
   "source": [
    "\\begin{equation}\n",
    "\\log_e L(\\mu, \\sigma) = \\log_e\\prod\\limits_{i=0}^{N}\\left(\\frac{1}{\\sqrt{2\\pi}\\sigma}e^\\frac{(x_i-\\mu)^2}{2\\sigma^2}\\right)\n",
    "\\end{equation}"
   ]
  },
  {
   "cell_type": "markdown",
   "metadata": {
    "id": "1Ac3Ees6QfPC"
   },
   "source": [
    "\\begin{equation}\n",
    "\\log_e L(\\mu, \\sigma) = \\sum\\limits_{i=0}^{N}\\log_e\\left(\\frac{1}{\\sqrt{2\\pi}\\sigma}e^\\frac{(x_i-\\mu)^2}{2\\sigma^2}\\right)\n",
    "\\end{equation}\n",
    "Here, the population mean and population standard deviation estimator best estimate for normal distribution can be evaluated by taking the derivative of the above function with respect to $\\mu$ and $\\sigma$ and when we do that, that is:\n",
    "\\begin{equation}\n",
    "\\frac{\\partial\\log_e L(\\mu, \\sigma)}{\\partial\\mu} = 0\n",
    "\\end{equation}"
   ]
  },
  {
   "cell_type": "markdown",
   "metadata": {
    "id": "S8CMcAeeQfPC"
   },
   "source": [
    "\\begin{equation}\n",
    "\\frac{\\partial log_e L(\\mu, \\sigma)}{\\partial\\sigma} = 0\n",
    "\\end{equation}\n",
    "\n",
    "We get,\n",
    "\\begin{equation}\n",
    "\\mu_\\text{best,normal} = \\frac{\\sum\\limits_{i=0}^{N}{X_i}}{N}\n",
    "\\end{equation}\n",
    "\n",
    "And, \n",
    "\n",
    "\\begin{equation}\n",
    "\\sigma_\\text{best,normal} = \\sqrt{\\frac{\\sum\\limits_{i=0}^{N}{(x_i-\\mu_\\text{best,normal})^2}}{N}}\n",
    "\\end{equation}\n",
    "\n",
    "Which is sample mean and sample standard deviation, therefore these are the best estimates of the population parameters of Normal Distribution for the best fit on our column data. \n",
    "\n",
    "Similarly, we can find the values of the best estimators of the population parameter of Rayliegh Distribution by following the above mentioned steps, and we get the following value for the best estimate in case of Rayleigh Distribution:\n",
    "\n",
    "\\begin{equation}\n",
    "\\sigma_\\text{best,rayleigh} = \\sqrt{\\frac{\\sum\\limits_{i=0}^{N}{x_i^2}}{2N}}\n",
    "\\end{equation}\n",
    "\n",
    "So, these best estimates of the MVU Estimators of respective population parameters of respective Probability Distributions will maximize the Log Likelihood Function values for respective probability distributions and hence will result in best fit of respective distributions. Now, to determine the bestest fit among both of the distributions, we have to select that distribution for which the Log Likelihood Function is the highest among both already maximized values. \n",
    "\n",
    "Now, in our case N = 569, so the best estimates of the MVU estimators of the population parameters of respective probability distributions are given by:\n",
    "\n",
    "\\begin{equation}\n",
    "\\mu_\\text{best,normal} = \\frac{\\sum\\limits_{i=0}^{569}{x_i}}{569}\n",
    "\\end{equation}\n",
    "\n",
    "And, \n",
    "\n",
    "\\begin{equation}\n",
    "\\sigma_\\text{best,normal} = \\sqrt{\\frac{\\sum\\limits_{i=0}^{569}{(x_i-\\mu_\\text{best,normal})^2}}{569}}\n",
    "\\end{equation}\n",
    "\n",
    "For Normal Distribution\n",
    "\n",
    "And, \n",
    "\n",
    "\\begin{equation}\n",
    "\\sigma_\\text{best,rayleigh} = \\sqrt{\\frac{\\sum\\limits_{i=0}^{569}{x_i^2}}{2*569}}\n",
    "\\end{equation}\n",
    "\n",
    "\n",
    "Therefore, the maximized values of Log Likelihood Function for the case of both the probability distributions is given by:\n",
    "\n",
    "\\begin{equation}\n",
    "L_\\text{max,normal} = \\log_e L(\\mu_\\text{best,normal},\\sigma_\\text{best,normal})\n",
    "\\end{equation}"
   ]
  },
  {
   "cell_type": "markdown",
   "metadata": {
    "id": "swv9k3f7QfPC"
   },
   "source": [
    "\\begin{equation}\n",
    "L_\\text{max,normal} = \\sum\\limits_{i=0}^{569}\\log_e\\left(\\frac{1}{\\sqrt{2\\pi}\\sigma_\\text{best,normal}}e^\\frac{(x_i-\\mu_\\text{best,normal})^2}{2\\sigma_\\text{best,normal}^2}\\right)\n",
    "\\end{equation}\n",
    "\n",
    "For Normal Distribution\n",
    "\n",
    "And,"
   ]
  },
  {
   "cell_type": "markdown",
   "metadata": {
    "id": "h5lWfHI_QfPC"
   },
   "source": [
    "Similarly, maximized value of Log Likelihood Function for Rayleigh Distribution can be calculated as we have just calculated for Normal Distribution. \n",
    "\\begin{equation}\n",
    "L_\\text{max,rayleigh} = \\log_e L(\\sigma_\\text{best,rayleigh})\n",
    "\\end{equation}\n",
    "\n",
    "Now, the column data will be considered to be sampled from Normal Distribution if:\n",
    "\n",
    "\\begin{equation}\n",
    "L_\\text{max,normal} > L_\\text{max,rayleigh}\n",
    "\\end{equation}\n",
    "\n",
    "else:\n",
    "\n",
    "column data will be considered to be sampled from Rayleigh Distribution.\n",
    "\n",
    "Therefore, in order to do all that, we are going to create following set of functions:"
   ]
  },
  {
   "cell_type": "code",
   "execution_count": 11,
   "metadata": {
    "id": "OWCC0hoEQfPC"
   },
   "outputs": [],
   "source": [
    "import numpy as np\n",
    "import scipy.stats as s\n",
    "import math\n",
    "\n",
    "def calculate_L_max_normal(x):\n",
    "    \n",
    "    mu_best_normal = np.mean(data[x])\n",
    "    \n",
    "    sigma_best_normal = np.std(data[x])\n",
    "    \n",
    "    L_max_normal = np.sum(s.norm.logpdf(data[x],mu_best_normal,sigma_best_normal))\n",
    "    \n",
    "    return L_max_normal"
   ]
  },
  {
   "cell_type": "code",
   "execution_count": 12,
   "metadata": {
    "id": "82r5pCyXQfPC"
   },
   "outputs": [],
   "source": [
    "def calculate_L_max_rayleigh(x):\n",
    "    \n",
    "    sigma_best_rayleigh = np.sqrt(np.mean(data[x]**2)/2)\n",
    "    \n",
    "    L_max_rayleigh = np.sum(s.rayleigh.logpdf(data[x],scale=sigma_best_rayleigh))\n",
    "                            \n",
    "    return L_max_rayleigh"
   ]
  },
  {
   "cell_type": "code",
   "execution_count": 13,
   "metadata": {},
   "outputs": [],
   "source": [
    "def distribution_type(x):\n",
    "    \n",
    "    if column_type(x) == 'discrete':\n",
    "        \n",
    "        if len(data[x].unique()) == 2:\n",
    "            \n",
    "            return 'binomial'\n",
    "        else:\n",
    "            \n",
    "            return 'multinomial'\n",
    "    \n",
    "    else :\n",
    "        \n",
    "        if column_type(x) == 'continous':\n",
    "            \n",
    "            if calculate_L_max_normal(x) > calculate_L_max_rayleigh(x):\n",
    "                \n",
    "                return 'normal'\n",
    "            \n",
    "            else:\n",
    "                \n",
    "                return 'rayleigh'"
   ]
  },
  {
   "cell_type": "code",
   "execution_count": 14,
   "metadata": {},
   "outputs": [
    {
     "name": "stdout",
     "output_type": "stream",
     "text": [
      "{'diagnosis': 'binomial'}\n",
      "{'radius_mean': 'normal'}\n",
      "{'texture_mean': 'normal'}\n",
      "{'perimeter_mean': 'normal'}\n",
      "{'area_mean': 'rayleigh'}\n",
      "{'smoothness_mean': 'normal'}\n",
      "{'compactness_mean': 'rayleigh'}\n",
      "{'concavity_mean': 'normal'}\n",
      "{'concave points_mean': 'normal'}\n",
      "{'symmetry_mean': 'normal'}\n",
      "{'fractal_dimension_mean': 'normal'}\n",
      "{'radius_se': 'rayleigh'}\n",
      "{'texture_se': 'rayleigh'}\n",
      "{'perimeter_se': 'rayleigh'}\n",
      "{'area_se': 'rayleigh'}\n",
      "{'smoothness_se': 'rayleigh'}\n",
      "{'compactness_se': 'rayleigh'}\n",
      "{'concavity_se': 'normal'}\n",
      "{'concave points_se': 'normal'}\n",
      "{'symmetry_se': 'normal'}\n",
      "{'fractal_dimension_se': 'rayleigh'}\n",
      "{'radius_worst': 'normal'}\n",
      "{'texture_worst': 'normal'}\n",
      "{'perimeter_worst': 'normal'}\n",
      "{'area_worst': 'rayleigh'}\n",
      "{'smoothness_worst': 'normal'}\n",
      "{'compactness_worst': 'rayleigh'}\n",
      "{'concavity_worst': 'normal'}\n",
      "{'concave points_worst': 'normal'}\n",
      "{'symmetry_worst': 'normal'}\n",
      "{'fractal_dimension_worst': 'normal'}\n"
     ]
    }
   ],
   "source": [
    "for col in data.columns:\n",
    "    d_type = dict(zip([col],[distribution_type(col)]))\n",
    "    print(d_type)"
   ]
  },
  {
   "cell_type": "code",
   "execution_count": null,
   "metadata": {},
   "outputs": [],
   "source": []
  }
 ],
 "metadata": {
  "colab": {
   "collapsed_sections": [],
   "name": "A1_Problem_Statement.ipynb",
   "provenance": []
  },
  "kernelspec": {
   "display_name": "Python 3 (ipykernel)",
   "language": "python",
   "name": "python3"
  },
  "language_info": {
   "codemirror_mode": {
    "name": "ipython",
    "version": 3
   },
   "file_extension": ".py",
   "mimetype": "text/x-python",
   "name": "python",
   "nbconvert_exporter": "python",
   "pygments_lexer": "ipython3",
   "version": "3.9.7"
  }
 },
 "nbformat": 4,
 "nbformat_minor": 1
}
