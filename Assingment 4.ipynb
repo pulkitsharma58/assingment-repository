{
 "cells": [
  {
   "cell_type": "code",
   "execution_count": 1,
   "id": "8fcdef72",
   "metadata": {},
   "outputs": [],
   "source": [
    "import pandas as pd"
   ]
  },
  {
   "cell_type": "code",
   "execution_count": 2,
   "id": "fd59b26c",
   "metadata": {},
   "outputs": [],
   "source": [
    "train = pd.read_csv(\"train.csv.zip\")"
   ]
  },
  {
   "cell_type": "code",
   "execution_count": 3,
   "id": "da1ad863",
   "metadata": {},
   "outputs": [
    {
     "data": {
      "text/html": [
       "<div>\n",
       "<style scoped>\n",
       "    .dataframe tbody tr th:only-of-type {\n",
       "        vertical-align: middle;\n",
       "    }\n",
       "\n",
       "    .dataframe tbody tr th {\n",
       "        vertical-align: top;\n",
       "    }\n",
       "\n",
       "    .dataframe thead th {\n",
       "        text-align: right;\n",
       "    }\n",
       "</style>\n",
       "<table border=\"1\" class=\"dataframe\">\n",
       "  <thead>\n",
       "    <tr style=\"text-align: right;\">\n",
       "      <th></th>\n",
       "      <th>ID_code</th>\n",
       "      <th>target</th>\n",
       "      <th>var_0</th>\n",
       "      <th>var_1</th>\n",
       "      <th>var_2</th>\n",
       "      <th>var_3</th>\n",
       "      <th>var_4</th>\n",
       "      <th>var_5</th>\n",
       "      <th>var_6</th>\n",
       "      <th>var_7</th>\n",
       "      <th>...</th>\n",
       "      <th>var_190</th>\n",
       "      <th>var_191</th>\n",
       "      <th>var_192</th>\n",
       "      <th>var_193</th>\n",
       "      <th>var_194</th>\n",
       "      <th>var_195</th>\n",
       "      <th>var_196</th>\n",
       "      <th>var_197</th>\n",
       "      <th>var_198</th>\n",
       "      <th>var_199</th>\n",
       "    </tr>\n",
       "  </thead>\n",
       "  <tbody>\n",
       "    <tr>\n",
       "      <th>0</th>\n",
       "      <td>train_0</td>\n",
       "      <td>0</td>\n",
       "      <td>8.9255</td>\n",
       "      <td>-6.7863</td>\n",
       "      <td>11.9081</td>\n",
       "      <td>5.0930</td>\n",
       "      <td>11.4607</td>\n",
       "      <td>-9.2834</td>\n",
       "      <td>5.1187</td>\n",
       "      <td>18.6266</td>\n",
       "      <td>...</td>\n",
       "      <td>4.4354</td>\n",
       "      <td>3.9642</td>\n",
       "      <td>3.1364</td>\n",
       "      <td>1.6910</td>\n",
       "      <td>18.5227</td>\n",
       "      <td>-2.3978</td>\n",
       "      <td>7.8784</td>\n",
       "      <td>8.5635</td>\n",
       "      <td>12.7803</td>\n",
       "      <td>-1.0914</td>\n",
       "    </tr>\n",
       "    <tr>\n",
       "      <th>1</th>\n",
       "      <td>train_1</td>\n",
       "      <td>0</td>\n",
       "      <td>11.5006</td>\n",
       "      <td>-4.1473</td>\n",
       "      <td>13.8588</td>\n",
       "      <td>5.3890</td>\n",
       "      <td>12.3622</td>\n",
       "      <td>7.0433</td>\n",
       "      <td>5.6208</td>\n",
       "      <td>16.5338</td>\n",
       "      <td>...</td>\n",
       "      <td>7.6421</td>\n",
       "      <td>7.7214</td>\n",
       "      <td>2.5837</td>\n",
       "      <td>10.9516</td>\n",
       "      <td>15.4305</td>\n",
       "      <td>2.0339</td>\n",
       "      <td>8.1267</td>\n",
       "      <td>8.7889</td>\n",
       "      <td>18.3560</td>\n",
       "      <td>1.9518</td>\n",
       "    </tr>\n",
       "    <tr>\n",
       "      <th>2</th>\n",
       "      <td>train_2</td>\n",
       "      <td>0</td>\n",
       "      <td>8.6093</td>\n",
       "      <td>-2.7457</td>\n",
       "      <td>12.0805</td>\n",
       "      <td>7.8928</td>\n",
       "      <td>10.5825</td>\n",
       "      <td>-9.0837</td>\n",
       "      <td>6.9427</td>\n",
       "      <td>14.6155</td>\n",
       "      <td>...</td>\n",
       "      <td>2.9057</td>\n",
       "      <td>9.7905</td>\n",
       "      <td>1.6704</td>\n",
       "      <td>1.6858</td>\n",
       "      <td>21.6042</td>\n",
       "      <td>3.1417</td>\n",
       "      <td>-6.5213</td>\n",
       "      <td>8.2675</td>\n",
       "      <td>14.7222</td>\n",
       "      <td>0.3965</td>\n",
       "    </tr>\n",
       "    <tr>\n",
       "      <th>3</th>\n",
       "      <td>train_3</td>\n",
       "      <td>0</td>\n",
       "      <td>11.0604</td>\n",
       "      <td>-2.1518</td>\n",
       "      <td>8.9522</td>\n",
       "      <td>7.1957</td>\n",
       "      <td>12.5846</td>\n",
       "      <td>-1.8361</td>\n",
       "      <td>5.8428</td>\n",
       "      <td>14.9250</td>\n",
       "      <td>...</td>\n",
       "      <td>4.4666</td>\n",
       "      <td>4.7433</td>\n",
       "      <td>0.7178</td>\n",
       "      <td>1.4214</td>\n",
       "      <td>23.0347</td>\n",
       "      <td>-1.2706</td>\n",
       "      <td>-2.9275</td>\n",
       "      <td>10.2922</td>\n",
       "      <td>17.9697</td>\n",
       "      <td>-8.9996</td>\n",
       "    </tr>\n",
       "    <tr>\n",
       "      <th>4</th>\n",
       "      <td>train_4</td>\n",
       "      <td>0</td>\n",
       "      <td>9.8369</td>\n",
       "      <td>-1.4834</td>\n",
       "      <td>12.8746</td>\n",
       "      <td>6.6375</td>\n",
       "      <td>12.2772</td>\n",
       "      <td>2.4486</td>\n",
       "      <td>5.9405</td>\n",
       "      <td>19.2514</td>\n",
       "      <td>...</td>\n",
       "      <td>-1.4905</td>\n",
       "      <td>9.5214</td>\n",
       "      <td>-0.1508</td>\n",
       "      <td>9.1942</td>\n",
       "      <td>13.2876</td>\n",
       "      <td>-1.5121</td>\n",
       "      <td>3.9267</td>\n",
       "      <td>9.5031</td>\n",
       "      <td>17.9974</td>\n",
       "      <td>-8.8104</td>\n",
       "    </tr>\n",
       "    <tr>\n",
       "      <th>...</th>\n",
       "      <td>...</td>\n",
       "      <td>...</td>\n",
       "      <td>...</td>\n",
       "      <td>...</td>\n",
       "      <td>...</td>\n",
       "      <td>...</td>\n",
       "      <td>...</td>\n",
       "      <td>...</td>\n",
       "      <td>...</td>\n",
       "      <td>...</td>\n",
       "      <td>...</td>\n",
       "      <td>...</td>\n",
       "      <td>...</td>\n",
       "      <td>...</td>\n",
       "      <td>...</td>\n",
       "      <td>...</td>\n",
       "      <td>...</td>\n",
       "      <td>...</td>\n",
       "      <td>...</td>\n",
       "      <td>...</td>\n",
       "      <td>...</td>\n",
       "    </tr>\n",
       "    <tr>\n",
       "      <th>199995</th>\n",
       "      <td>train_199995</td>\n",
       "      <td>0</td>\n",
       "      <td>11.4880</td>\n",
       "      <td>-0.4956</td>\n",
       "      <td>8.2622</td>\n",
       "      <td>3.5142</td>\n",
       "      <td>10.3404</td>\n",
       "      <td>11.6081</td>\n",
       "      <td>5.6709</td>\n",
       "      <td>15.1516</td>\n",
       "      <td>...</td>\n",
       "      <td>6.1415</td>\n",
       "      <td>13.2305</td>\n",
       "      <td>3.9901</td>\n",
       "      <td>0.9388</td>\n",
       "      <td>18.0249</td>\n",
       "      <td>-1.7939</td>\n",
       "      <td>2.1661</td>\n",
       "      <td>8.5326</td>\n",
       "      <td>16.6660</td>\n",
       "      <td>-17.8661</td>\n",
       "    </tr>\n",
       "    <tr>\n",
       "      <th>199996</th>\n",
       "      <td>train_199996</td>\n",
       "      <td>0</td>\n",
       "      <td>4.9149</td>\n",
       "      <td>-2.4484</td>\n",
       "      <td>16.7052</td>\n",
       "      <td>6.6345</td>\n",
       "      <td>8.3096</td>\n",
       "      <td>-10.5628</td>\n",
       "      <td>5.8802</td>\n",
       "      <td>21.5940</td>\n",
       "      <td>...</td>\n",
       "      <td>4.9611</td>\n",
       "      <td>4.6549</td>\n",
       "      <td>0.6998</td>\n",
       "      <td>1.8341</td>\n",
       "      <td>22.2717</td>\n",
       "      <td>1.7337</td>\n",
       "      <td>-2.1651</td>\n",
       "      <td>6.7419</td>\n",
       "      <td>15.9054</td>\n",
       "      <td>0.3388</td>\n",
       "    </tr>\n",
       "    <tr>\n",
       "      <th>199997</th>\n",
       "      <td>train_199997</td>\n",
       "      <td>0</td>\n",
       "      <td>11.2232</td>\n",
       "      <td>-5.0518</td>\n",
       "      <td>10.5127</td>\n",
       "      <td>5.6456</td>\n",
       "      <td>9.3410</td>\n",
       "      <td>-5.4086</td>\n",
       "      <td>4.5555</td>\n",
       "      <td>21.5571</td>\n",
       "      <td>...</td>\n",
       "      <td>4.0651</td>\n",
       "      <td>5.4414</td>\n",
       "      <td>3.1032</td>\n",
       "      <td>4.8793</td>\n",
       "      <td>23.5311</td>\n",
       "      <td>-1.5736</td>\n",
       "      <td>1.2832</td>\n",
       "      <td>8.7155</td>\n",
       "      <td>13.8329</td>\n",
       "      <td>4.1995</td>\n",
       "    </tr>\n",
       "    <tr>\n",
       "      <th>199998</th>\n",
       "      <td>train_199998</td>\n",
       "      <td>0</td>\n",
       "      <td>9.7148</td>\n",
       "      <td>-8.6098</td>\n",
       "      <td>13.6104</td>\n",
       "      <td>5.7930</td>\n",
       "      <td>12.5173</td>\n",
       "      <td>0.5339</td>\n",
       "      <td>6.0479</td>\n",
       "      <td>17.0152</td>\n",
       "      <td>...</td>\n",
       "      <td>2.6840</td>\n",
       "      <td>8.6587</td>\n",
       "      <td>2.7337</td>\n",
       "      <td>11.1178</td>\n",
       "      <td>20.4158</td>\n",
       "      <td>-0.0786</td>\n",
       "      <td>6.7980</td>\n",
       "      <td>10.0342</td>\n",
       "      <td>15.5289</td>\n",
       "      <td>-13.9001</td>\n",
       "    </tr>\n",
       "    <tr>\n",
       "      <th>199999</th>\n",
       "      <td>train_199999</td>\n",
       "      <td>0</td>\n",
       "      <td>10.8762</td>\n",
       "      <td>-5.7105</td>\n",
       "      <td>12.1183</td>\n",
       "      <td>8.0328</td>\n",
       "      <td>11.5577</td>\n",
       "      <td>0.3488</td>\n",
       "      <td>5.2839</td>\n",
       "      <td>15.2058</td>\n",
       "      <td>...</td>\n",
       "      <td>8.9842</td>\n",
       "      <td>1.6893</td>\n",
       "      <td>0.1276</td>\n",
       "      <td>0.3766</td>\n",
       "      <td>15.2101</td>\n",
       "      <td>-2.4907</td>\n",
       "      <td>-2.2342</td>\n",
       "      <td>8.1857</td>\n",
       "      <td>12.1284</td>\n",
       "      <td>0.1385</td>\n",
       "    </tr>\n",
       "  </tbody>\n",
       "</table>\n",
       "<p>200000 rows × 202 columns</p>\n",
       "</div>"
      ],
      "text/plain": [
       "             ID_code  target    var_0   var_1    var_2   var_3    var_4  \\\n",
       "0            train_0       0   8.9255 -6.7863  11.9081  5.0930  11.4607   \n",
       "1            train_1       0  11.5006 -4.1473  13.8588  5.3890  12.3622   \n",
       "2            train_2       0   8.6093 -2.7457  12.0805  7.8928  10.5825   \n",
       "3            train_3       0  11.0604 -2.1518   8.9522  7.1957  12.5846   \n",
       "4            train_4       0   9.8369 -1.4834  12.8746  6.6375  12.2772   \n",
       "...              ...     ...      ...     ...      ...     ...      ...   \n",
       "199995  train_199995       0  11.4880 -0.4956   8.2622  3.5142  10.3404   \n",
       "199996  train_199996       0   4.9149 -2.4484  16.7052  6.6345   8.3096   \n",
       "199997  train_199997       0  11.2232 -5.0518  10.5127  5.6456   9.3410   \n",
       "199998  train_199998       0   9.7148 -8.6098  13.6104  5.7930  12.5173   \n",
       "199999  train_199999       0  10.8762 -5.7105  12.1183  8.0328  11.5577   \n",
       "\n",
       "          var_5   var_6    var_7  ...  var_190  var_191  var_192  var_193  \\\n",
       "0       -9.2834  5.1187  18.6266  ...   4.4354   3.9642   3.1364   1.6910   \n",
       "1        7.0433  5.6208  16.5338  ...   7.6421   7.7214   2.5837  10.9516   \n",
       "2       -9.0837  6.9427  14.6155  ...   2.9057   9.7905   1.6704   1.6858   \n",
       "3       -1.8361  5.8428  14.9250  ...   4.4666   4.7433   0.7178   1.4214   \n",
       "4        2.4486  5.9405  19.2514  ...  -1.4905   9.5214  -0.1508   9.1942   \n",
       "...         ...     ...      ...  ...      ...      ...      ...      ...   \n",
       "199995  11.6081  5.6709  15.1516  ...   6.1415  13.2305   3.9901   0.9388   \n",
       "199996 -10.5628  5.8802  21.5940  ...   4.9611   4.6549   0.6998   1.8341   \n",
       "199997  -5.4086  4.5555  21.5571  ...   4.0651   5.4414   3.1032   4.8793   \n",
       "199998   0.5339  6.0479  17.0152  ...   2.6840   8.6587   2.7337  11.1178   \n",
       "199999   0.3488  5.2839  15.2058  ...   8.9842   1.6893   0.1276   0.3766   \n",
       "\n",
       "        var_194  var_195  var_196  var_197  var_198  var_199  \n",
       "0       18.5227  -2.3978   7.8784   8.5635  12.7803  -1.0914  \n",
       "1       15.4305   2.0339   8.1267   8.7889  18.3560   1.9518  \n",
       "2       21.6042   3.1417  -6.5213   8.2675  14.7222   0.3965  \n",
       "3       23.0347  -1.2706  -2.9275  10.2922  17.9697  -8.9996  \n",
       "4       13.2876  -1.5121   3.9267   9.5031  17.9974  -8.8104  \n",
       "...         ...      ...      ...      ...      ...      ...  \n",
       "199995  18.0249  -1.7939   2.1661   8.5326  16.6660 -17.8661  \n",
       "199996  22.2717   1.7337  -2.1651   6.7419  15.9054   0.3388  \n",
       "199997  23.5311  -1.5736   1.2832   8.7155  13.8329   4.1995  \n",
       "199998  20.4158  -0.0786   6.7980  10.0342  15.5289 -13.9001  \n",
       "199999  15.2101  -2.4907  -2.2342   8.1857  12.1284   0.1385  \n",
       "\n",
       "[200000 rows x 202 columns]"
      ]
     },
     "execution_count": 3,
     "metadata": {},
     "output_type": "execute_result"
    }
   ],
   "source": [
    "train"
   ]
  },
  {
   "cell_type": "code",
   "execution_count": 4,
   "id": "72a89930",
   "metadata": {},
   "outputs": [
    {
     "data": {
      "text/plain": [
       "Index(['ID_code', 'target', 'var_0', 'var_1', 'var_2', 'var_3', 'var_4',\n",
       "       'var_5', 'var_6', 'var_7',\n",
       "       ...\n",
       "       'var_190', 'var_191', 'var_192', 'var_193', 'var_194', 'var_195',\n",
       "       'var_196', 'var_197', 'var_198', 'var_199'],\n",
       "      dtype='object', length=202)"
      ]
     },
     "execution_count": 4,
     "metadata": {},
     "output_type": "execute_result"
    }
   ],
   "source": [
    "train.columns"
   ]
  },
  {
   "cell_type": "code",
   "execution_count": 5,
   "id": "d19f0827",
   "metadata": {},
   "outputs": [
    {
     "data": {
      "text/html": [
       "<div>\n",
       "<style scoped>\n",
       "    .dataframe tbody tr th:only-of-type {\n",
       "        vertical-align: middle;\n",
       "    }\n",
       "\n",
       "    .dataframe tbody tr th {\n",
       "        vertical-align: top;\n",
       "    }\n",
       "\n",
       "    .dataframe thead th {\n",
       "        text-align: right;\n",
       "    }\n",
       "</style>\n",
       "<table border=\"1\" class=\"dataframe\">\n",
       "  <thead>\n",
       "    <tr style=\"text-align: right;\">\n",
       "      <th></th>\n",
       "      <th>ID_code</th>\n",
       "      <th>target</th>\n",
       "      <th>var_0</th>\n",
       "      <th>var_1</th>\n",
       "      <th>var_2</th>\n",
       "    </tr>\n",
       "  </thead>\n",
       "  <tbody>\n",
       "    <tr>\n",
       "      <th>0</th>\n",
       "      <td>train_0</td>\n",
       "      <td>0</td>\n",
       "      <td>8.9255</td>\n",
       "      <td>-6.7863</td>\n",
       "      <td>11.9081</td>\n",
       "    </tr>\n",
       "    <tr>\n",
       "      <th>1</th>\n",
       "      <td>train_1</td>\n",
       "      <td>0</td>\n",
       "      <td>11.5006</td>\n",
       "      <td>-4.1473</td>\n",
       "      <td>13.8588</td>\n",
       "    </tr>\n",
       "    <tr>\n",
       "      <th>2</th>\n",
       "      <td>train_2</td>\n",
       "      <td>0</td>\n",
       "      <td>8.6093</td>\n",
       "      <td>-2.7457</td>\n",
       "      <td>12.0805</td>\n",
       "    </tr>\n",
       "    <tr>\n",
       "      <th>3</th>\n",
       "      <td>train_3</td>\n",
       "      <td>0</td>\n",
       "      <td>11.0604</td>\n",
       "      <td>-2.1518</td>\n",
       "      <td>8.9522</td>\n",
       "    </tr>\n",
       "    <tr>\n",
       "      <th>4</th>\n",
       "      <td>train_4</td>\n",
       "      <td>0</td>\n",
       "      <td>9.8369</td>\n",
       "      <td>-1.4834</td>\n",
       "      <td>12.8746</td>\n",
       "    </tr>\n",
       "    <tr>\n",
       "      <th>...</th>\n",
       "      <td>...</td>\n",
       "      <td>...</td>\n",
       "      <td>...</td>\n",
       "      <td>...</td>\n",
       "      <td>...</td>\n",
       "    </tr>\n",
       "    <tr>\n",
       "      <th>199995</th>\n",
       "      <td>train_199995</td>\n",
       "      <td>0</td>\n",
       "      <td>11.4880</td>\n",
       "      <td>-0.4956</td>\n",
       "      <td>8.2622</td>\n",
       "    </tr>\n",
       "    <tr>\n",
       "      <th>199996</th>\n",
       "      <td>train_199996</td>\n",
       "      <td>0</td>\n",
       "      <td>4.9149</td>\n",
       "      <td>-2.4484</td>\n",
       "      <td>16.7052</td>\n",
       "    </tr>\n",
       "    <tr>\n",
       "      <th>199997</th>\n",
       "      <td>train_199997</td>\n",
       "      <td>0</td>\n",
       "      <td>11.2232</td>\n",
       "      <td>-5.0518</td>\n",
       "      <td>10.5127</td>\n",
       "    </tr>\n",
       "    <tr>\n",
       "      <th>199998</th>\n",
       "      <td>train_199998</td>\n",
       "      <td>0</td>\n",
       "      <td>9.7148</td>\n",
       "      <td>-8.6098</td>\n",
       "      <td>13.6104</td>\n",
       "    </tr>\n",
       "    <tr>\n",
       "      <th>199999</th>\n",
       "      <td>train_199999</td>\n",
       "      <td>0</td>\n",
       "      <td>10.8762</td>\n",
       "      <td>-5.7105</td>\n",
       "      <td>12.1183</td>\n",
       "    </tr>\n",
       "  </tbody>\n",
       "</table>\n",
       "<p>200000 rows × 5 columns</p>\n",
       "</div>"
      ],
      "text/plain": [
       "             ID_code  target    var_0   var_1    var_2\n",
       "0            train_0       0   8.9255 -6.7863  11.9081\n",
       "1            train_1       0  11.5006 -4.1473  13.8588\n",
       "2            train_2       0   8.6093 -2.7457  12.0805\n",
       "3            train_3       0  11.0604 -2.1518   8.9522\n",
       "4            train_4       0   9.8369 -1.4834  12.8746\n",
       "...              ...     ...      ...     ...      ...\n",
       "199995  train_199995       0  11.4880 -0.4956   8.2622\n",
       "199996  train_199996       0   4.9149 -2.4484  16.7052\n",
       "199997  train_199997       0  11.2232 -5.0518  10.5127\n",
       "199998  train_199998       0   9.7148 -8.6098  13.6104\n",
       "199999  train_199999       0  10.8762 -5.7105  12.1183\n",
       "\n",
       "[200000 rows x 5 columns]"
      ]
     },
     "execution_count": 5,
     "metadata": {},
     "output_type": "execute_result"
    }
   ],
   "source": [
    "train.iloc[:,0:5]"
   ]
  },
  {
   "cell_type": "markdown",
   "id": "c280ae04",
   "metadata": {},
   "source": [
    "# Problems"
   ]
  },
  {
   "cell_type": "markdown",
   "id": "2b808217",
   "metadata": {},
   "source": [
    "1.          \\begin{equation}\n",
    "            P(target = 0 | (1 \\leq var_0 \\leq 15) \\cap (-10 \\leq var_1 \\leq 9.5) \\cap (4 \\leq var_2 \\leq 18))   \n",
    "            \\end{equation}\n",
    "            \n",
    "            \n",
    "            \n",
    "\n",
    "2.          \\begin{equation}\n",
    "            P((1 \\leq var_0 \\leq 15) \\cap (-10 \\leq var_1 \\leq 9.5) \\cap (4 \\leq var_2 \\leq 18) | target = 0)\n",
    "            \\end{equation}\n",
    "            \n",
    "            \n",
    "            \n",
    "\n",
    "3.          \\begin{equation}\n",
    "            P(target = 1 | (1 \\leq var_0 \\leq 15) \\cap (-10 \\leq var_1 \\leq 9.5) \\cap (4 \\leq var_2 \\leq 18))\n",
    "            \\end{equation}\n",
    "            \n",
    "            \n",
    "            \n",
    "            \n",
    "4.          \\begin{equation}\n",
    "            P((1 \\leq var_0 \\leq 15) \\cap (-10 \\leq var_1 \\leq 9.5) \\cap (4 \\leq var_2 \\leq 18) | target = 1)\n",
    "            \\end{equation}"
   ]
  },
  {
   "cell_type": "markdown",
   "id": "147926a2",
   "metadata": {},
   "source": [
    "# Using Conditional Probability\n",
    "\\begin{equation}\n",
    "P(A|B) = \\frac{P(A \\cap B)}{P(B)}\n",
    "\\end{equation}"
   ]
  },
  {
   "cell_type": "markdown",
   "id": "a30d2a77",
   "metadata": {},
   "source": [
    "# For question 1.\n",
    "\n",
    "\\begin{equation}\n",
    "P(A \\cap B) = P((target = 0)\\cap (1 \\leq var_0 \\leq 15) \\cap (-10 \\leq var_1 \\leq 9.5) \\cap (4 \\leq var_2 \\leq 18))\n",
    "\\end{equation}"
   ]
  },
  {
   "cell_type": "code",
   "execution_count": 6,
   "id": "d1c04958",
   "metadata": {},
   "outputs": [],
   "source": [
    "P1_1 = (train['target'] == 0) &  (train['var_0'] >= 1) & (train['var_0'] <= 15)  & (train['var_1'] >= -10) & (train['var_1'] <= 9.5) & (train['var_2'] >= 4) & (train['var_2'] <= 18)"
   ]
  },
  {
   "cell_type": "code",
   "execution_count": 7,
   "id": "c1fe8146",
   "metadata": {},
   "outputs": [],
   "source": [
    "A_1 = train[P1_1].shape[0]/train.shape[0]"
   ]
  },
  {
   "cell_type": "code",
   "execution_count": 8,
   "id": "0a6dbf87",
   "metadata": {},
   "outputs": [
    {
     "data": {
      "text/plain": [
       "0.819455"
      ]
     },
     "execution_count": 8,
     "metadata": {},
     "output_type": "execute_result"
    }
   ],
   "source": [
    "A_1"
   ]
  },
  {
   "cell_type": "markdown",
   "id": "3ec493bb",
   "metadata": {},
   "source": [
    "\\begin{equation}\n",
    "P(A \\cap B)=0.819455\n",
    "\\end{equation}"
   ]
  },
  {
   "cell_type": "markdown",
   "id": "80361f7a",
   "metadata": {},
   "source": [
    "\\begin{equation}\n",
    "P(B) = P((1 \\leq var_0 \\leq 15) \\cap (-10 \\leq var_1 \\leq 9.5) \\cap (4 \\leq var_2 \\leq 18))\n",
    "\\end{equation}"
   ]
  },
  {
   "cell_type": "code",
   "execution_count": 9,
   "id": "1ce0852a",
   "metadata": {},
   "outputs": [],
   "source": [
    "P1_2 = (train['var_0']>= 1) & (train['var_0']<= 15)  & (train['var_1']>= -10) & (train['var_1'] <= 9.5) & (train['var_2'] >= 4) & (train['var_2'] <= 18)"
   ]
  },
  {
   "cell_type": "code",
   "execution_count": 10,
   "id": "6bdf934f",
   "metadata": {},
   "outputs": [],
   "source": [
    "B_1 = train[P1_2].shape[0]/train.shape[0]"
   ]
  },
  {
   "cell_type": "code",
   "execution_count": 11,
   "id": "f8f30bb0",
   "metadata": {},
   "outputs": [
    {
     "data": {
      "text/plain": [
       "0.905805"
      ]
     },
     "execution_count": 11,
     "metadata": {},
     "output_type": "execute_result"
    }
   ],
   "source": [
    "B_1"
   ]
  },
  {
   "cell_type": "markdown",
   "id": "e6f8e5d4",
   "metadata": {},
   "source": [
    "\\begin{equation}\n",
    "P(B)=0.905805\n",
    "\\end{equation}"
   ]
  },
  {
   "cell_type": "code",
   "execution_count": 12,
   "id": "a9118a8f",
   "metadata": {},
   "outputs": [
    {
     "data": {
      "text/plain": [
       "0.9046704312738394"
      ]
     },
     "execution_count": 12,
     "metadata": {},
     "output_type": "execute_result"
    }
   ],
   "source": [
    "A_1/B_1"
   ]
  },
  {
   "cell_type": "markdown",
   "id": "79ef7025",
   "metadata": {},
   "source": [
    "\\begin{equation}\n",
    "P(A|B)..1 = 0.9046704312738394\n",
    "\\end{equation}"
   ]
  },
  {
   "cell_type": "markdown",
   "id": "cf4d9e2d",
   "metadata": {},
   "source": [
    "# For question 2.\n",
    "\n",
    "\\begin{equation}\n",
    "P(A \\cap B) = P((1 \\leq var_0 \\leq 15) \\cap (-10 \\leq var_1 \\leq 9.5) \\cap (4 \\leq var_2 \\leq 18) \\cap (target = 0))\n",
    "\\end{equation}\n"
   ]
  },
  {
   "cell_type": "code",
   "execution_count": 13,
   "id": "a9ffd276",
   "metadata": {},
   "outputs": [],
   "source": [
    "P2_1 = (train['var_0'] >= 1) & (train['var_0'] <= 15)  & (train['var_1'] >= -10) & (train['var_1'] <= 9.5) & (train['var_2'] >= 4) & (train['var_2'] <= 18) & (train['target'] == 0) "
   ]
  },
  {
   "cell_type": "code",
   "execution_count": 14,
   "id": "02dbe53c",
   "metadata": {},
   "outputs": [],
   "source": [
    "A_2 = train[P2_1].shape[0]/train.shape[0]"
   ]
  },
  {
   "cell_type": "code",
   "execution_count": 15,
   "id": "3788ac16",
   "metadata": {},
   "outputs": [
    {
     "data": {
      "text/plain": [
       "0.819455"
      ]
     },
     "execution_count": 15,
     "metadata": {},
     "output_type": "execute_result"
    }
   ],
   "source": [
    "A_2"
   ]
  },
  {
   "cell_type": "markdown",
   "id": "86c25729",
   "metadata": {},
   "source": [
    "\\begin{equation}\n",
    "P(A \\cap B) = 0.819455\n",
    "\\end{equation}"
   ]
  },
  {
   "cell_type": "markdown",
   "id": "a1dd64b3",
   "metadata": {},
   "source": [
    "\\begin{equation}\n",
    "P(B) =  (target = 0)\n",
    "\\end{equation}"
   ]
  },
  {
   "cell_type": "code",
   "execution_count": 16,
   "id": "92aa2e37",
   "metadata": {},
   "outputs": [],
   "source": [
    "P2_2 = train['target']== 0"
   ]
  },
  {
   "cell_type": "code",
   "execution_count": 17,
   "id": "7d4829eb",
   "metadata": {},
   "outputs": [],
   "source": [
    "B_2 = train[P2_2].shape[0]/train.shape[0]"
   ]
  },
  {
   "cell_type": "code",
   "execution_count": 18,
   "id": "103a922e",
   "metadata": {},
   "outputs": [
    {
     "data": {
      "text/plain": [
       "0.89951"
      ]
     },
     "execution_count": 18,
     "metadata": {},
     "output_type": "execute_result"
    }
   ],
   "source": [
    "B_2"
   ]
  },
  {
   "cell_type": "markdown",
   "id": "8a2a97bf",
   "metadata": {},
   "source": [
    "\\begin{equation}\n",
    "P(B) = 0.89951\n",
    "\\end{equation}"
   ]
  },
  {
   "cell_type": "code",
   "execution_count": 19,
   "id": "b4ce9bed",
   "metadata": {},
   "outputs": [
    {
     "data": {
      "text/plain": [
       "0.9110015452857667"
      ]
     },
     "execution_count": 19,
     "metadata": {},
     "output_type": "execute_result"
    }
   ],
   "source": [
    "A_2/B_2"
   ]
  },
  {
   "cell_type": "markdown",
   "id": "a1e0f850",
   "metadata": {},
   "source": [
    "\\begin{equation}\n",
    "P(A|B)..2 = 0.9110015452857667\n",
    "\\end{equation}"
   ]
  },
  {
   "cell_type": "markdown",
   "id": "9f7ca012",
   "metadata": {},
   "source": [
    "# For question 3.\n",
    "\\begin{equation}\n",
    "P(A \\cap B) = P((target = 1) \\cap (1 \\leq var_0 \\leq 15) \\cap (-10 \\leq var_1 \\leq 9.5) \\cap (4 \\leq var_2 \\leq 18))\n",
    "\\end{equation}"
   ]
  },
  {
   "cell_type": "code",
   "execution_count": 20,
   "id": "f6de32b6",
   "metadata": {},
   "outputs": [],
   "source": [
    "P3_1 = (train['target'] == 1) &  (train['var_0'] >= 1) & (train['var_0'] <= 15)  & (train['var_1'] >= -10) & (train['var_1'] <= 9.5) & (train['var_2'] >= 4) & (train['var_2'] <= 18)"
   ]
  },
  {
   "cell_type": "code",
   "execution_count": 21,
   "id": "ba58a37b",
   "metadata": {},
   "outputs": [],
   "source": [
    "A_3 = train[P3_1].shape[0]/train.shape[0]"
   ]
  },
  {
   "cell_type": "code",
   "execution_count": 22,
   "id": "8016317d",
   "metadata": {},
   "outputs": [
    {
     "data": {
      "text/plain": [
       "0.08635"
      ]
     },
     "execution_count": 22,
     "metadata": {},
     "output_type": "execute_result"
    }
   ],
   "source": [
    "A_3"
   ]
  },
  {
   "cell_type": "markdown",
   "id": "74292a95",
   "metadata": {},
   "source": [
    "\\begin{equation}\n",
    "P(A \\cap B) = 0.08635\n",
    "\\end{equation}"
   ]
  },
  {
   "cell_type": "markdown",
   "id": "c191e64c",
   "metadata": {},
   "source": [
    "\\begin{equation}\n",
    "P(B) = P((1 \\leq var_0 \\leq 15) \\cap (-10 \\leq var_1 \\leq 9.5) \\cap (4 \\leq var_2 \\leq 18))\n",
    "\\end{equation}"
   ]
  },
  {
   "cell_type": "code",
   "execution_count": 23,
   "id": "18825b7e",
   "metadata": {},
   "outputs": [],
   "source": [
    "P3_2 = (train['var_0']>= 1) & (train['var_0']<= 15)  & (train['var_1']>= -10) & (train['var_1'] <= 9.5) & (train['var_2'] >= 4) & (train['var_2'] <= 18)"
   ]
  },
  {
   "cell_type": "code",
   "execution_count": 24,
   "id": "a007a182",
   "metadata": {},
   "outputs": [],
   "source": [
    "B_3 = train[P3_2].shape[0]/train.shape[0]"
   ]
  },
  {
   "cell_type": "code",
   "execution_count": 25,
   "id": "6152838e",
   "metadata": {},
   "outputs": [
    {
     "data": {
      "text/plain": [
       "0.905805"
      ]
     },
     "execution_count": 25,
     "metadata": {},
     "output_type": "execute_result"
    }
   ],
   "source": [
    "B_3"
   ]
  },
  {
   "cell_type": "markdown",
   "id": "2d5d412f",
   "metadata": {},
   "source": [
    "\\begin{equation}\n",
    "P(B)=0.905805\n",
    "\\end{equation}"
   ]
  },
  {
   "cell_type": "code",
   "execution_count": 26,
   "id": "0296075f",
   "metadata": {},
   "outputs": [
    {
     "data": {
      "text/plain": [
       "0.0953295687261607"
      ]
     },
     "execution_count": 26,
     "metadata": {},
     "output_type": "execute_result"
    }
   ],
   "source": [
    "A_3/B_3"
   ]
  },
  {
   "cell_type": "markdown",
   "id": "1ce44a3d",
   "metadata": {},
   "source": [
    "\\begin{equation}\n",
    "P(A|B)..3 = 0.0953295687261607\n",
    "\\end{equation}"
   ]
  },
  {
   "cell_type": "markdown",
   "id": "b45cc4a9",
   "metadata": {},
   "source": [
    "# For question 4.\n",
    "\\begin{equation}\n",
    "P(A \\cap B) = P((1 \\leq var_0 \\leq 15) \\cap (-10 \\leq var_1 \\leq 9.5) \\cap (4 \\leq var_2 \\leq 18) \\cap (target = 1))\n",
    "\\end{equation}"
   ]
  },
  {
   "cell_type": "code",
   "execution_count": 27,
   "id": "22bebd77",
   "metadata": {},
   "outputs": [],
   "source": [
    "P4_1 = (train['var_0'] >= 1) & (train['var_0'] <= 15)  & (train['var_1'] >= -10) & (train['var_1'] <= 9.5) & (train['var_2'] >= 4) & (train['var_2'] <= 18) & (train['target'] == 1) "
   ]
  },
  {
   "cell_type": "code",
   "execution_count": 28,
   "id": "eea68dcd",
   "metadata": {},
   "outputs": [],
   "source": [
    "A_4 = train[P4_1].shape[0]/train.shape[0]"
   ]
  },
  {
   "cell_type": "code",
   "execution_count": 29,
   "id": "c5a98452",
   "metadata": {},
   "outputs": [
    {
     "data": {
      "text/plain": [
       "0.08635"
      ]
     },
     "execution_count": 29,
     "metadata": {},
     "output_type": "execute_result"
    }
   ],
   "source": [
    "A_4"
   ]
  },
  {
   "cell_type": "markdown",
   "id": "8c19ad27",
   "metadata": {},
   "source": [
    "\\begin{equation}\n",
    "P(A \\cap B) = 0.08635\n",
    "\\end{equation}"
   ]
  },
  {
   "cell_type": "markdown",
   "id": "60da9572",
   "metadata": {},
   "source": [
    "\\begin{equation}\n",
    "P(B) =  (target = 1)\n",
    "\\end{equation}"
   ]
  },
  {
   "cell_type": "code",
   "execution_count": 30,
   "id": "364dfe4c",
   "metadata": {},
   "outputs": [],
   "source": [
    "P4_2 = train['target']== 1"
   ]
  },
  {
   "cell_type": "code",
   "execution_count": 31,
   "id": "7d2b4fc8",
   "metadata": {},
   "outputs": [],
   "source": [
    "B_4 = train[P4_2].shape[0]/train.shape[0]"
   ]
  },
  {
   "cell_type": "code",
   "execution_count": 32,
   "id": "cf48cacc",
   "metadata": {},
   "outputs": [
    {
     "data": {
      "text/plain": [
       "0.10049"
      ]
     },
     "execution_count": 32,
     "metadata": {},
     "output_type": "execute_result"
    }
   ],
   "source": [
    "B_4"
   ]
  },
  {
   "cell_type": "markdown",
   "id": "3cbe458f",
   "metadata": {},
   "source": [
    "\\begin{equation}\n",
    "P(B) = 0.10049\n",
    "\\end{equation}"
   ]
  },
  {
   "cell_type": "code",
   "execution_count": 33,
   "id": "89474f75",
   "metadata": {
    "scrolled": true
   },
   "outputs": [
    {
     "data": {
      "text/plain": [
       "0.8592894815404518"
      ]
     },
     "execution_count": 33,
     "metadata": {},
     "output_type": "execute_result"
    }
   ],
   "source": [
    "A_4/B_4"
   ]
  },
  {
   "cell_type": "markdown",
   "id": "44f718d1",
   "metadata": {},
   "source": [
    "\\begin{equation}\n",
    "P(A|B)..4 = 0.8592894815404518\n",
    "\\end{equation}"
   ]
  },
  {
   "cell_type": "code",
   "execution_count": null,
   "id": "74b28671",
   "metadata": {},
   "outputs": [],
   "source": []
  }
 ],
 "metadata": {
  "kernelspec": {
   "display_name": "Python 3 (ipykernel)",
   "language": "python",
   "name": "python3"
  },
  "language_info": {
   "codemirror_mode": {
    "name": "ipython",
    "version": 3
   },
   "file_extension": ".py",
   "mimetype": "text/x-python",
   "name": "python",
   "nbconvert_exporter": "python",
   "pygments_lexer": "ipython3",
   "version": "3.9.7"
  }
 },
 "nbformat": 4,
 "nbformat_minor": 5
}
